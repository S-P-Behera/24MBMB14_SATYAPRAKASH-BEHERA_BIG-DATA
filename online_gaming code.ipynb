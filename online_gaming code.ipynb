{
 "cells": [
  {
   "cell_type": "code",
   "execution_count": 0,
   "metadata": {
    "application/vnd.databricks.v1+cell": {
     "cellMetadata": {
      "byteLimit": 2048000,
      "rowLimit": 10000
     },
     "inputWidgets": {},
     "nuid": "a72351e8-c468-4643-a912-cb882750a741",
     "showTitle": false,
     "tableResultSettingsMap": {},
     "title": ""
    }
   },
   "outputs": [
    {
     "output_type": "stream",
     "name": "stdout",
     "output_type": "stream",
     "text": [
      "Calculating Total In-Game Purchases Per Player...\nTotal in-game purchases per player:\n"
     ]
    },
    {
     "output_type": "display_data",
     "data": {
      "text/html": [
       "<style scoped>\n",
       "  .table-result-container {\n",
       "    max-height: 300px;\n",
       "    overflow: auto;\n",
       "  }\n",
       "  table, th, td {\n",
       "    border: 1px solid black;\n",
       "    border-collapse: collapse;\n",
       "  }\n",
       "  th, td {\n",
       "    padding: 5px;\n",
       "  }\n",
       "  th {\n",
       "    text-align: left;\n",
       "  }\n",
       "</style><div class='table-result-container'><table class='table-result'><thead style='background-color: white'><tr><th>player_id</th><th>total_purchases($)</th></tr></thead><tbody><tr><td>P033</td><td>169.31</td></tr><tr><td>P019</td><td>113.35</td></tr><tr><td>P030</td><td>116.24</td></tr><tr><td>P034</td><td>117.68</td></tr><tr><td>P060</td><td>29.83</td></tr><tr><td>P076</td><td>58.03</td></tr><tr><td>P001</td><td>41.39</td></tr><tr><td>P068</td><td>155.63</td></tr><tr><td>P040</td><td>443.09000000000003</td></tr><tr><td>P022</td><td>76.12</td></tr><tr><td>P055</td><td>113.91</td></tr><tr><td>P026</td><td>135.32</td></tr><tr><td>P027</td><td>163.69</td></tr><tr><td>P044</td><td>93.85</td></tr><tr><td>P004</td><td>15.83</td></tr><tr><td>P064</td><td>116.78</td></tr></tbody></table></div>"
      ]
     },
     "metadata": {
      "application/vnd.databricks.v1+output": {
       "addedWidgets": {},
       "aggData": [],
       "aggError": "",
       "aggOverflow": false,
       "aggSchema": [],
       "aggSeriesLimitReached": false,
       "aggType": "",
       "arguments": {},
       "columnCustomDisplayInfos": {},
       "data": [
        [
         "P033",
         169.31
        ],
        [
         "P019",
         113.35
        ],
        [
         "P030",
         116.24
        ],
        [
         "P034",
         117.68
        ],
        [
         "P060",
         29.83
        ],
        [
         "P076",
         58.03
        ],
        [
         "P001",
         41.39
        ],
        [
         "P068",
         155.63
        ],
        [
         "P040",
         443.09000000000003
        ],
        [
         "P022",
         76.12
        ],
        [
         "P055",
         113.91
        ],
        [
         "P026",
         135.32
        ],
        [
         "P027",
         163.69
        ],
        [
         "P044",
         93.85
        ],
        [
         "P004",
         15.83
        ],
        [
         "P064",
         116.78
        ]
       ],
       "datasetInfos": [],
       "dbfsResultPath": null,
       "isJsonSchema": true,
       "metadata": {},
       "overflow": false,
       "plotOptions": {
        "customPlotOptions": {},
        "displayType": "table",
        "pivotAggregation": null,
        "pivotColumns": null,
        "xColumns": null,
        "yColumns": null
       },
       "removedWidgets": [],
       "schema": [
        {
         "metadata": "{}",
         "name": "player_id",
         "type": "\"string\""
        },
        {
         "metadata": "{}",
         "name": "total_purchases($)",
         "type": "\"double\""
        }
       ],
       "type": "table"
      }
     },
     "output_type": "display_data"
    },
    {
     "output_type": "display_data",
     "data": {
      "text/plain": [
       "Databricks visualization. Run in Databricks to view."
      ]
     },
     "metadata": {
      "application/vnd.databricks.v1.subcommand+json": {
       "baseErrorDetails": null,
       "bindings": {},
       "collapsed": false,
       "command": "%python\n__backend_agg_display_orig = display\n__backend_agg_dfs = []\ndef __backend_agg_display_new(df):\n    __backend_agg_df_modules = [\"pandas.core.frame\", \"databricks.koalas.frame\", \"pyspark.sql.dataframe\", \"pyspark.pandas.frame\", \"pyspark.sql.connect.dataframe\"]\n    if (type(df).__module__ in __backend_agg_df_modules and type(df).__name__ == 'DataFrame') or isinstance(df, list):\n        __backend_agg_dfs.append(df)\n\ndisplay = __backend_agg_display_new\n\ndef __backend_agg_user_code_fn():\n    import base64\n    exec(base64.standard_b64decode(\"ZnJvbSBweXNwYXJrLnNxbC5mdW5jdGlvbnMgaW1wb3J0IHN1bQoKIyBMb2FkIHRoZSBzZXNzaW9ucy5jc3YgZmlsZSB3aXRoIGFuIGFic29sdXRlIHBhdGgKc2Vzc2lvbnNfZGYgPSBzcGFyay5yZWFkLmNzdigiL1ZvbHVtZXMvaW50ZXJuYWxfMS9kZWZhdWx0L29ubGluZV9nYW1pbmcvc2Vzc2lvbnMuY3N2IiwgaGVhZGVyPVRydWUsIGluZmVyU2NoZW1hPVRydWUpCgojIC0tLS0tLS0tLS0tLS0tLS0tLS0tLS0tLS0tLS0tLS0tLS0tLS0tLS0tLS0tLS0tLQojIDEuIENhbGN1bGF0ZSBUb3RhbCBJbi1HYW1lIFB1cmNoYXNlcyBQZXIgUGxheWVyCiMgLS0tLS0tLS0tLS0tLS0tLS0tLS0tLS0tLS0tLS0tLS0tLS0tLS0tLS0tLS0tLS0tCnByaW50KCJDYWxjdWxhdGluZyBUb3RhbCBJbi1HYW1lIFB1cmNoYXNlcyBQZXIgUGxheWVyLi4uIikKCiMgRmlsdGVyIGZvciBwdXJjaGFzZSB0YXNrcwpwdXJjaGFzZV9kZiA9IHNlc3Npb25zX2RmLmZpbHRlcihzZXNzaW9uc19kZlsidGFzayJdID09ICJwdXJjaGFzZSIpCgojIEdyb3VwIGJ5IHBsYXllcl9pZCBhbmQgc3VtIHRoZSBhbW91bnRfc3BlbnQKdG90YWxfcHVyY2hhc2VzX3Blcl9wbGF5ZXIgPSBwdXJjaGFzZV9kZi5ncm91cEJ5KCJwbGF5ZXJfaWQiKSBcCiAgICAgICAgICAgICAgICAgICAgICAgICAgICAgICAgICAgICAuYWdnKHN1bSgiYW1vdW50X3NwZW50KCQpIikuYWxpYXMoInRvdGFsX3B1cmNoYXNlcygkKSIpKQoKIyBEaXNwbGF5IHRoZSByZXN1bHRzCnByaW50KCJUb3RhbCBpbi1nYW1lIHB1cmNoYXNlcyBwZXIgcGxheWVyOiIpCmRpc3BsYXkodG90YWxfcHVyY2hhc2VzX3Blcl9wbGF5ZXIp\").decode())\n\ntry:\n    # run user code\n    __backend_agg_user_code_fn()\n\n    #reset display function\n    display = __backend_agg_display_orig\n\n    if len(__backend_agg_dfs) > 0:\n        # create a temp view\n        if type(__backend_agg_dfs[0]).__module__ == \"databricks.koalas.frame\":\n            # koalas dataframe\n            __backend_agg_dfs[0].to_spark().createOrReplaceTempView(\"DatabricksViewcea3eaf\")\n        elif type(__backend_agg_dfs[0]).__module__ == \"pandas.core.frame\" or isinstance(__backend_agg_dfs[0], list):\n            # pandas dataframe\n            spark.createDataFrame(__backend_agg_dfs[0]).createOrReplaceTempView(\"DatabricksViewcea3eaf\")\n        else:\n            __backend_agg_dfs[0].createOrReplaceTempView(\"DatabricksViewcea3eaf\")\n        #run backend agg\n        display(spark.sql(\"\"\"WITH q AS (select * from DatabricksViewcea3eaf) SELECT `player_id`,SUM(`total_purchases($)`) `column_80a9e559289` FROM q GROUP BY `player_id`\"\"\"))\n    else:\n        displayHTML(\"dataframe no longer exists. If you're using dataframe.display(), use display(dataframe) instead.\")\n\n\nfinally:\n    spark.sql(\"drop view if exists DatabricksViewcea3eaf\")\n    display = __backend_agg_display_orig\n    del __backend_agg_display_new\n    del __backend_agg_display_orig\n    del __backend_agg_dfs\n    del __backend_agg_user_code_fn\n\n",
       "commandTitle": "Visualization 1",
       "commandType": "auto",
       "commandVersion": 0,
       "commentThread": [],
       "commentsVisible": false,
       "contentSha256Hex": null,
       "customPlotOptions": {
        "redashChart": [
         {
          "key": "type",
          "value": "CHART"
         },
         {
          "key": "options",
          "value": {
           "alignYAxesAtZero": true,
           "coefficient": 1,
           "columnConfigurationMap": {
            "x": {
             "column": "player_id",
             "id": "column_80a9e559288"
            },
            "y": [
             {
              "column": "total_purchases($)",
              "id": "column_80a9e559289",
              "transform": "SUM"
             }
            ]
           },
           "dateTimeFormat": "DD/MM/YYYY HH:mm",
           "direction": {
            "type": "counterclockwise"
           },
           "error_y": {
            "type": "data",
            "visible": true
           },
           "globalSeriesType": "column",
           "legend": {
            "traceorder": "normal"
           },
           "missingValuesAsZero": true,
           "numberFormat": "0,0.[00000]",
           "percentFormat": "0[.]00%",
           "series": {
            "error_y": {
             "type": "data",
             "visible": true
            },
            "stacking": null
           },
           "seriesOptions": {
            "column_80a9e559289": {
             "name": "total_purchases($)",
             "yAxis": 0
            }
           },
           "showDataLabels": false,
           "sizemode": "diameter",
           "sortX": true,
           "sortY": true,
           "swappedAxes": true,
           "textFormat": "",
           "useAggregationsUi": true,
           "valuesOptions": {},
           "version": 2,
           "xAxis": {
            "labels": {
             "enabled": true
            },
            "type": "-"
           },
           "yAxis": [
            {
             "type": "-"
            },
            {
             "opposite": true,
             "type": "-"
            }
           ]
          }
         }
        ]
       },
       "datasetPreviewNameToCmdIdMap": {},
       "diffDeletes": [],
       "diffInserts": [],
       "displayType": "redashChart",
       "error": null,
       "errorDetails": null,
       "errorSummary": null,
       "errorTraceType": null,
       "finishTime": 0,
       "globalVars": {},
       "guid": "",
       "height": "auto",
       "hideCommandCode": false,
       "hideCommandResult": false,
       "iPythonMetadata": null,
       "inputWidgets": {},
       "isLockedInExamMode": false,
       "latestUser": "a user",
       "latestUserId": null,
       "listResultMetadata": null,
       "metadata": {},
       "nuid": "766401d7-8071-48f3-96c8-bda342acdb85",
       "origId": 0,
       "parentHierarchy": [],
       "pivotAggregation": null,
       "pivotColumns": null,
       "position": 102.0,
       "resultDbfsErrorMessage": null,
       "resultDbfsStatus": "INLINED_IN_TREE",
       "results": null,
       "showCommandTitle": false,
       "startTime": 0,
       "state": "input",
       "streamStates": {},
       "subcommandOptions": {
        "queryPlan": {
         "groups": [
          {
           "column": "player_id",
           "type": "column"
          }
         ],
         "selects": [
          {
           "column": "player_id",
           "type": "column"
          },
          {
           "alias": "column_80a9e559289",
           "args": [
            {
             "column": "total_purchases($)",
             "type": "column"
            }
           ],
           "function": "SUM",
           "type": "function"
          }
         ]
        }
       },
       "submitTime": 0,
       "subtype": "tableResultSubCmd.visualization",
       "tableResultIndex": 0,
       "tableResultSettingsMap": {},
       "useConsistentColors": false,
       "version": "CommandV1",
       "width": "auto",
       "workflows": [],
       "xColumns": null,
       "yColumns": null
      }
     },
     "output_type": "display_data"
    }
   ],
   "source": [
    "%python\n",
    "from pyspark.sql.functions import sum\n",
    "\n",
    "# Load the sessions.csv file with an absolute path\n",
    "sessions_df = spark.read.csv(\"/Volumes/internal_1/default/online_gaming/sessions.csv\", header=True, inferSchema=True)\n",
    "\n",
    "# ------------------------------------------------\n",
    "# 1. Calculate Total In-Game Purchases Per Player\n",
    "# ------------------------------------------------\n",
    "print(\"Calculating Total In-Game Purchases Per Player...\")\n",
    "\n",
    "# Filter for purchase tasks\n",
    "purchase_df = sessions_df.filter(sessions_df[\"task\"] == \"purchase\")\n",
    "\n",
    "# Group by player_id and sum the amount_spent\n",
    "total_purchases_per_player = purchase_df.groupBy(\"player_id\") \\\n",
    "                                     .agg(sum(\"amount_spent($)\").alias(\"total_purchases($)\"))\n",
    "\n",
    "# Display the results\n",
    "print(\"Total in-game purchases per player:\")\n",
    "display(total_purchases_per_player)"
   ]
  },
  {
   "cell_type": "markdown",
   "metadata": {
    "application/vnd.databricks.v1+cell": {
     "cellMetadata": {},
     "inputWidgets": {},
     "nuid": "92c3c115-800d-409b-bcc8-12c1fb584301",
     "showTitle": false,
     "tableResultSettingsMap": {},
     "title": ""
    }
   },
   "source": [
    "question:2"
   ]
  },
  {
   "cell_type": "code",
   "execution_count": 0,
   "metadata": {
    "application/vnd.databricks.v1+cell": {
     "cellMetadata": {
      "byteLimit": 2048000,
      "rowLimit": 10000
     },
     "inputWidgets": {},
     "nuid": "ed946dce-ab16-4cb3-a290-3b6ae9baf36e",
     "showTitle": false,
     "tableResultSettingsMap": {},
     "title": ""
    }
   },
   "outputs": [
    {
     "output_type": "stream",
     "name": "stdout",
     "output_type": "stream",
     "text": [
      "\nCalculating Maximum Session Length Per Player...\nMaximum session length per player:\n"
     ]
    },
    {
     "output_type": "display_data",
     "data": {
      "text/html": [
       "<style scoped>\n",
       "  .table-result-container {\n",
       "    max-height: 300px;\n",
       "    overflow: auto;\n",
       "  }\n",
       "  table, th, td {\n",
       "    border: 1px solid black;\n",
       "    border-collapse: collapse;\n",
       "  }\n",
       "  th, td {\n",
       "    padding: 5px;\n",
       "  }\n",
       "  th {\n",
       "    text-align: left;\n",
       "  }\n",
       "</style><div class='table-result-container'><table class='table-result'><thead style='background-color: white'><tr><th>player_id</th><th>max_session_length_minutes</th></tr></thead><tbody><tr><td>P045</td><td>30.0</td></tr><tr><td>P033</td><td>170.0</td></tr><tr><td>P063</td><td>104.0</td></tr><tr><td>P075</td><td>14.0</td></tr><tr><td>P041</td><td>13.0</td></tr><tr><td>P019</td><td>179.0</td></tr><tr><td>P029</td><td>32.0</td></tr><tr><td>P030</td><td>121.0</td></tr><tr><td>P034</td><td>100.0</td></tr><tr><td>P008</td><td>20.0</td></tr><tr><td>P060</td><td>162.0</td></tr><tr><td>P039</td><td>65.0</td></tr><tr><td>P053</td><td>174.0</td></tr><tr><td>P078</td><td>87.0</td></tr><tr><td>P025</td><td>79.0</td></tr><tr><td>P015</td><td>116.0</td></tr><tr><td>P014</td><td>24.0</td></tr><tr><td>P066</td><td>67.0</td></tr><tr><td>P076</td><td>16.0</td></tr><tr><td>P047</td><td>105.0</td></tr><tr><td>P017</td><td>120.0</td></tr><tr><td>P013</td><td>169.0</td></tr><tr><td>P001</td><td>141.0</td></tr><tr><td>P073</td><td>171.0</td></tr><tr><td>P068</td><td>174.0</td></tr><tr><td>P037</td><td>175.0</td></tr><tr><td>P057</td><td>117.0</td></tr><tr><td>P072</td><td>104.0</td></tr><tr><td>P032</td><td>126.0</td></tr><tr><td>P071</td><td>162.0</td></tr><tr><td>P021</td><td>175.0</td></tr><tr><td>P036</td><td>71.0</td></tr><tr><td>P003</td><td>98.0</td></tr><tr><td>P080</td><td>72.0</td></tr><tr><td>P024</td><td>176.0</td></tr><tr><td>P011</td><td>49.0</td></tr><tr><td>P040</td><td>150.0</td></tr><tr><td>P010</td><td>92.0</td></tr><tr><td>P022</td><td>136.0</td></tr><tr><td>P055</td><td>85.0</td></tr><tr><td>P026</td><td>82.0</td></tr><tr><td>P007</td><td>119.0</td></tr><tr><td>P027</td><td>149.0</td></tr><tr><td>P054</td><td>169.0</td></tr><tr><td>P044</td><td>118.0</td></tr><tr><td>P004</td><td>156.0</td></tr><tr><td>P050</td><td>104.0</td></tr><tr><td>P059</td><td>165.0</td></tr><tr><td>P020</td><td>123.0</td></tr><tr><td>P064</td><td>66.0</td></tr></tbody></table></div>"
      ]
     },
     "metadata": {
      "application/vnd.databricks.v1+output": {
       "addedWidgets": {},
       "aggData": [],
       "aggError": "",
       "aggOverflow": false,
       "aggSchema": [],
       "aggSeriesLimitReached": false,
       "aggType": "",
       "arguments": {},
       "columnCustomDisplayInfos": {},
       "data": [
        [
         "P045",
         30.0
        ],
        [
         "P033",
         170.0
        ],
        [
         "P063",
         104.0
        ],
        [
         "P075",
         14.0
        ],
        [
         "P041",
         13.0
        ],
        [
         "P019",
         179.0
        ],
        [
         "P029",
         32.0
        ],
        [
         "P030",
         121.0
        ],
        [
         "P034",
         100.0
        ],
        [
         "P008",
         20.0
        ],
        [
         "P060",
         162.0
        ],
        [
         "P039",
         65.0
        ],
        [
         "P053",
         174.0
        ],
        [
         "P078",
         87.0
        ],
        [
         "P025",
         79.0
        ],
        [
         "P015",
         116.0
        ],
        [
         "P014",
         24.0
        ],
        [
         "P066",
         67.0
        ],
        [
         "P076",
         16.0
        ],
        [
         "P047",
         105.0
        ],
        [
         "P017",
         120.0
        ],
        [
         "P013",
         169.0
        ],
        [
         "P001",
         141.0
        ],
        [
         "P073",
         171.0
        ],
        [
         "P068",
         174.0
        ],
        [
         "P037",
         175.0
        ],
        [
         "P057",
         117.0
        ],
        [
         "P072",
         104.0
        ],
        [
         "P032",
         126.0
        ],
        [
         "P071",
         162.0
        ],
        [
         "P021",
         175.0
        ],
        [
         "P036",
         71.0
        ],
        [
         "P003",
         98.0
        ],
        [
         "P080",
         72.0
        ],
        [
         "P024",
         176.0
        ],
        [
         "P011",
         49.0
        ],
        [
         "P040",
         150.0
        ],
        [
         "P010",
         92.0
        ],
        [
         "P022",
         136.0
        ],
        [
         "P055",
         85.0
        ],
        [
         "P026",
         82.0
        ],
        [
         "P007",
         119.0
        ],
        [
         "P027",
         149.0
        ],
        [
         "P054",
         169.0
        ],
        [
         "P044",
         118.0
        ],
        [
         "P004",
         156.0
        ],
        [
         "P050",
         104.0
        ],
        [
         "P059",
         165.0
        ],
        [
         "P020",
         123.0
        ],
        [
         "P064",
         66.0
        ]
       ],
       "datasetInfos": [],
       "dbfsResultPath": null,
       "isJsonSchema": true,
       "metadata": {},
       "overflow": false,
       "plotOptions": {
        "customPlotOptions": {},
        "displayType": "table",
        "pivotAggregation": null,
        "pivotColumns": null,
        "xColumns": null,
        "yColumns": null
       },
       "removedWidgets": [],
       "schema": [
        {
         "metadata": "{}",
         "name": "player_id",
         "type": "\"string\""
        },
        {
         "metadata": "{}",
         "name": "max_session_length_minutes",
         "type": "\"double\""
        }
       ],
       "type": "table"
      }
     },
     "output_type": "display_data"
    },
    {
     "output_type": "display_data",
     "data": {
      "text/plain": [
       "Databricks visualization. Run in Databricks to view."
      ]
     },
     "metadata": {
      "application/vnd.databricks.v1.subcommand+json": {
       "baseErrorDetails": null,
       "bindings": {},
       "collapsed": false,
       "command": "%python\n__backend_agg_display_orig = display\n__backend_agg_dfs = []\ndef __backend_agg_display_new(df):\n    __backend_agg_df_modules = [\"pandas.core.frame\", \"databricks.koalas.frame\", \"pyspark.sql.dataframe\", \"pyspark.pandas.frame\", \"pyspark.sql.connect.dataframe\"]\n    if (type(df).__module__ in __backend_agg_df_modules and type(df).__name__ == 'DataFrame') or isinstance(df, list):\n        __backend_agg_dfs.append(df)\n\ndisplay = __backend_agg_display_new\n\ndef __backend_agg_user_code_fn():\n    import base64\n    exec(base64.standard_b64decode(\"ZnJvbSBweXNwYXJrLnNxbC5mdW5jdGlvbnMgaW1wb3J0IHRvX3RpbWVzdGFtcCwgY29sLCBtYXgKCiMgLS0tLS0tLS0tLS0tLS0tLS0tLS0tLS0tLS0tLS0tLS0tLS0tLS0tLS0tLS0tLS0tCiMgMi4gQ29tcHV0ZSBNYXggU2Vzc2lvbiBMZW5ndGggUGVyIFBsYXllcgojIC0tLS0tLS0tLS0tLS0tLS0tLS0tLS0tLS0tLS0tLS0tLS0tLS0tLS0tLS0tLS0tLQpwcmludCgiXG5DYWxjdWxhdGluZyBNYXhpbXVtIFNlc3Npb24gTGVuZ3RoIFBlciBQbGF5ZXIuLi4iKQoKIyBDb252ZXJ0IHN0cmluZyB0aW1lc3RhbXBzIHRvIFB5U3BhcmsgdGltZXN0YW1wcwpzZXNzaW9uc193aXRoX3RpbWVzdGFtcHMgPSBzZXNzaW9uc19kZi53aXRoQ29sdW1uKAogICAgImxvZ2luX3RpbWVzdGFtcCIsCiAgICB0b190aW1lc3RhbXAoImxvZ2luX3RpbWUiLCAiZGQtTU0teXl5eSBISDptbSIpCikud2l0aENvbHVtbigKICAgICJsb2dvdXRfdGltZXN0YW1wIiwKICAgIHRvX3RpbWVzdGFtcCgibG9nb3V0X3RpbWUiLCAiZGQtTU0teXl5eSBISDptbSIpCikKCiMgQ2FsY3VsYXRlIHNlc3Npb24gbGVuZ3RoIGluIG1pbnV0ZXMKc2Vzc2lvbnNfd2l0aF9sZW5ndGggPSBzZXNzaW9uc193aXRoX3RpbWVzdGFtcHMud2l0aENvbHVtbigKICAgICJzZXNzaW9uX2xlbmd0aF9taW51dGVzIiwKICAgIChjb2woImxvZ291dF90aW1lc3RhbXAiKS5jYXN0KCJsb25nIikgLSBjb2woImxvZ2luX3RpbWVzdGFtcCIpLmNhc3QoImxvbmciKSkgLyA2MAopCgojIEdyb3VwIGJ5IHBsYXllcl9pZCBhbmQgZmluZCB0aGUgbWF4aW11bSBzZXNzaW9uIGxlbmd0aAptYXhfc2Vzc2lvbl9sZW5ndGhfcGVyX3BsYXllciA9IHNlc3Npb25zX3dpdGhfbGVuZ3RoLmdyb3VwQnkoInBsYXllcl9pZCIpIFwKICAgICAgICAgICAgICAgICAgICAgICAgICAgICAgICAgICAgICAgICAgICAgICAgICAgICAuYWdnKG1heCgic2Vzc2lvbl9sZW5ndGhfbWludXRlcyIpLmFsaWFzKCJtYXhfc2Vzc2lvbl9sZW5ndGhfbWludXRlcyIpKQoKIyBEaXNwbGF5IHRoZSByZXN1bHRzCnByaW50KCJNYXhpbXVtIHNlc3Npb24gbGVuZ3RoIHBlciBwbGF5ZXI6IikKZGlzcGxheShtYXhfc2Vzc2lvbl9sZW5ndGhfcGVyX3BsYXllcik=\").decode())\n\ntry:\n    # run user code\n    __backend_agg_user_code_fn()\n\n    #reset display function\n    display = __backend_agg_display_orig\n\n    if len(__backend_agg_dfs) > 0:\n        # create a temp view\n        if type(__backend_agg_dfs[0]).__module__ == \"databricks.koalas.frame\":\n            # koalas dataframe\n            __backend_agg_dfs[0].to_spark().createOrReplaceTempView(\"DatabricksViewe8970a2\")\n        elif type(__backend_agg_dfs[0]).__module__ == \"pandas.core.frame\" or isinstance(__backend_agg_dfs[0], list):\n            # pandas dataframe\n            spark.createDataFrame(__backend_agg_dfs[0]).createOrReplaceTempView(\"DatabricksViewe8970a2\")\n        else:\n            __backend_agg_dfs[0].createOrReplaceTempView(\"DatabricksViewe8970a2\")\n        #run backend agg\n        display(spark.sql(\"\"\"WITH q AS (select * from DatabricksViewe8970a2) SELECT `player_id`,MAX(`max_session_length_minutes`) `column_80a9e559285`,`player_id` FROM q GROUP BY `player_id`\"\"\"))\n    else:\n        displayHTML(\"dataframe no longer exists. If you're using dataframe.display(), use display(dataframe) instead.\")\n\n\nfinally:\n    spark.sql(\"drop view if exists DatabricksViewe8970a2\")\n    display = __backend_agg_display_orig\n    del __backend_agg_display_new\n    del __backend_agg_display_orig\n    del __backend_agg_dfs\n    del __backend_agg_user_code_fn\n\n",
       "commandTitle": "Visualization 1",
       "commandType": "auto",
       "commandVersion": 0,
       "commentThread": [],
       "commentsVisible": false,
       "contentSha256Hex": null,
       "customPlotOptions": {
        "redashChart": [
         {
          "key": "type",
          "value": "CHART"
         },
         {
          "key": "options",
          "value": {
           "alignYAxesAtZero": true,
           "coefficient": 1,
           "columnConfigurationMap": {
            "series": {
             "column": "player_id",
             "id": "column_80a9e559286"
            },
            "x": {
             "column": "player_id",
             "id": "column_80a9e559284"
            },
            "y": [
             {
              "column": "max_session_length_minutes",
              "id": "column_80a9e559285",
              "transform": "MAX"
             }
            ]
           },
           "dateTimeFormat": "DD/MM/YYYY HH:mm",
           "direction": {
            "type": "counterclockwise"
           },
           "error_y": {
            "type": "data",
            "visible": true
           },
           "globalSeriesType": "area",
           "isAggregationOn": true,
           "legend": {
            "traceorder": "normal"
           },
           "missingValuesAsZero": true,
           "numBins": 10,
           "numberFormat": "0,0.[00000]",
           "percentFormat": "0[.]00%",
           "series": {
            "error_y": {
             "type": "data",
             "visible": true
            },
            "stacking": null
           },
           "seriesOptions": {
            "column_80a9e559285": {
             "type": "area",
             "yAxis": 0
            },
            "max_session_length_minutes": {
             "type": "area",
             "yAxis": 0
            }
           },
           "showDataLabels": false,
           "sizemode": "diameter",
           "sortX": true,
           "sortY": true,
           "swappedAxes": false,
           "textFormat": "",
           "useAggregationsUi": true,
           "valuesOptions": {},
           "version": 2,
           "xAxis": {
            "labels": {
             "enabled": true
            },
            "type": "-"
           },
           "yAxis": [
            {
             "type": "-"
            },
            {
             "opposite": true,
             "type": "-"
            }
           ]
          }
         }
        ]
       },
       "datasetPreviewNameToCmdIdMap": {},
       "diffDeletes": [],
       "diffInserts": [],
       "displayType": "redashChart",
       "error": null,
       "errorDetails": null,
       "errorSummary": null,
       "errorTraceType": null,
       "finishTime": 0,
       "globalVars": {},
       "guid": "",
       "height": "auto",
       "hideCommandCode": false,
       "hideCommandResult": false,
       "iPythonMetadata": null,
       "inputWidgets": {},
       "isLockedInExamMode": false,
       "latestUser": "a user",
       "latestUserId": null,
       "listResultMetadata": null,
       "metadata": {},
       "nuid": "fce7230a-7ec8-41d2-953e-088ad01284be",
       "origId": 0,
       "parentHierarchy": [],
       "pivotAggregation": null,
       "pivotColumns": null,
       "position": 104.0,
       "resultDbfsErrorMessage": null,
       "resultDbfsStatus": "INLINED_IN_TREE",
       "results": null,
       "showCommandTitle": false,
       "startTime": 0,
       "state": "input",
       "streamStates": {},
       "subcommandOptions": {
        "queryPlan": {
         "groups": [
          {
           "column": "player_id",
           "type": "column"
          },
          {
           "column": "player_id",
           "type": "column"
          }
         ],
         "selects": [
          {
           "column": "player_id",
           "type": "column"
          },
          {
           "alias": "column_80a9e559285",
           "args": [
            {
             "column": "max_session_length_minutes",
             "type": "column"
            }
           ],
           "function": "MAX",
           "type": "function"
          },
          {
           "column": "player_id",
           "type": "column"
          }
         ]
        }
       },
       "submitTime": 0,
       "subtype": "tableResultSubCmd.visualization",
       "tableResultIndex": 0,
       "tableResultSettingsMap": {},
       "useConsistentColors": false,
       "version": "CommandV1",
       "width": "auto",
       "workflows": [],
       "xColumns": null,
       "yColumns": null
      }
     },
     "output_type": "display_data"
    }
   ],
   "source": [
    "%python\n",
    "from pyspark.sql.functions import to_timestamp, col, max\n",
    "\n",
    "# ------------------------------------------------\n",
    "# 2. Compute Max Session Length Per Player\n",
    "# ------------------------------------------------\n",
    "print(\"\\nCalculating Maximum Session Length Per Player...\")\n",
    "\n",
    "# Convert string timestamps to PySpark timestamps\n",
    "sessions_with_timestamps = sessions_df.withColumn(\n",
    "    \"login_timestamp\",\n",
    "    to_timestamp(\"login_time\", \"dd-MM-yyyy HH:mm\")\n",
    ").withColumn(\n",
    "    \"logout_timestamp\",\n",
    "    to_timestamp(\"logout_time\", \"dd-MM-yyyy HH:mm\")\n",
    ")\n",
    "\n",
    "# Calculate session length in minutes\n",
    "sessions_with_length = sessions_with_timestamps.withColumn(\n",
    "    \"session_length_minutes\",\n",
    "    (col(\"logout_timestamp\").cast(\"long\") - col(\"login_timestamp\").cast(\"long\")) / 60\n",
    ")\n",
    "\n",
    "# Group by player_id and find the maximum session length\n",
    "max_session_length_per_player = sessions_with_length.groupBy(\"player_id\") \\\n",
    "                                                     .agg(max(\"session_length_minutes\").alias(\"max_session_length_minutes\"))\n",
    "\n",
    "# Display the results\n",
    "print(\"Maximum session length per player:\")\n",
    "display(max_session_length_per_player)"
   ]
  },
  {
   "cell_type": "code",
   "execution_count": 0,
   "metadata": {
    "application/vnd.databricks.v1+cell": {
     "cellMetadata": {},
     "inputWidgets": {},
     "nuid": "1a9910c0-7ca2-4043-b352-67ea9d65fd0d",
     "showTitle": false,
     "tableResultSettingsMap": {},
     "title": ""
    }
   },
   "outputs": [],
   "source": []
  },
  {
   "cell_type": "code",
   "execution_count": 0,
   "metadata": {
    "application/vnd.databricks.v1+cell": {
     "cellMetadata": {
      "byteLimit": 2048000,
      "rowLimit": 10000
     },
     "inputWidgets": {},
     "nuid": "e5b022fb-9001-4cca-b5d4-b7eb541f5c76",
     "showTitle": false,
     "tableResultSettingsMap": {},
     "title": ""
    }
   },
   "outputs": [
    {
     "output_type": "stream",
     "name": "stdout",
     "output_type": "stream",
     "text": [
      "Total in-game purchases per player (DataFrame):\n+---------+------------------+\n|player_id|total_purchases($)|\n+---------+------------------+\n|     P033|            169.31|\n|     P019|            113.35|\n|     P030|            116.24|\n|     P034|            117.68|\n|     P060|             29.83|\n|     P076|             58.03|\n|     P001|             41.39|\n|     P068|            155.63|\n|     P040|443.09000000000003|\n|     P022|             76.12|\n|     P055|            113.91|\n|     P026|            135.32|\n|     P027|            163.69|\n|     P044|             93.85|\n|     P004|             15.83|\n|     P064|            116.78|\n+---------+------------------+\n\nMaximum session length per player (DataFrame):\n+---------+--------------------------+\n|player_id|max_session_length_minutes|\n+---------+--------------------------+\n|     P045|                      30.0|\n|     P033|                     170.0|\n|     P063|                     104.0|\n|     P075|                      14.0|\n|     P041|                      13.0|\n|     P019|                     179.0|\n|     P029|                      32.0|\n|     P030|                     121.0|\n|     P034|                     100.0|\n|     P008|                      20.0|\n|     P060|                     162.0|\n|     P039|                      65.0|\n|     P053|                     174.0|\n|     P078|                      87.0|\n|     P025|                      79.0|\n|     P015|                     116.0|\n|     P014|                      24.0|\n|     P066|                      67.0|\n|     P076|                      16.0|\n|     P047|                     105.0|\n+---------+--------------------------+\nonly showing top 20 rows\n"
     ]
    }
   ],
   "source": [
    "%python\n",
    "from pyspark.sql import SparkSession\n",
    "from pyspark.sql.functions import sum, max, col, to_timestamp\n",
    "\n",
    "# Create a SparkSession\n",
    "spark = SparkSession.builder.appName(\"GamingDataAnalysis\").getOrCreate()\n",
    "\n",
    "# Load the sessions.csv file\n",
    "sessions_df = spark.read.csv(\"/Volumes/internal_1/default/online_gaming/sessions.csv\", header=True, inferSchema=True)\n",
    "\n",
    "# Calculate total purchases per player\n",
    "purchase_df = sessions_df.filter(sessions_df.task == \"purchase\")\n",
    "total_purchases_per_player = purchase_df.groupBy(\"player_id\").agg(sum(\"amount_spent($)\").alias(\"total_purchases($)\"))\n",
    "print(\"Total in-game purchases per player (DataFrame):\")\n",
    "total_purchases_per_player.show()\n",
    "\n",
    "# Calculate max session length per player\n",
    "sessions_with_timestamps = sessions_df.withColumn(\n",
    "    \"login_timestamp\", to_timestamp(\"login_time\", \"dd-MM-yyyy HH:mm\")\n",
    ").withColumn(\n",
    "    \"logout_timestamp\", to_timestamp(\"logout_time\", \"dd-MM-yyyy HH:mm\")\n",
    ")\n",
    "sessions_with_length = sessions_with_timestamps.withColumn(\n",
    "    \"session_length_minutes\",\n",
    "    (col(\"logout_timestamp\").cast(\"long\") - col(\"login_timestamp\").cast(\"long\")) / 60\n",
    ")\n",
    "max_session_length_per_player = sessions_with_length.groupBy(\"player_id\").agg(max(\"session_length_minutes\").alias(\"max_session_length_minutes\"))\n",
    "print(\"Maximum session length per player (DataFrame):\")\n",
    "max_session_length_per_player.show()"
   ]
  },
  {
   "cell_type": "code",
   "execution_count": 0,
   "metadata": {
    "application/vnd.databricks.v1+cell": {
     "cellMetadata": {
      "byteLimit": 2048000,
      "rowLimit": 10000
     },
     "inputWidgets": {},
     "nuid": "55ff9518-1f0c-408e-881f-c74ea0a02929",
     "showTitle": false,
     "tableResultSettingsMap": {},
     "title": ""
    }
   },
   "outputs": [],
   "source": [
    "%python\n",
    "sessions_df.createOrReplaceTempView(\"sessions\")"
   ]
  },
  {
   "cell_type": "code",
   "execution_count": 0,
   "metadata": {
    "application/vnd.databricks.v1+cell": {
     "cellMetadata": {
      "byteLimit": 2048000,
      "rowLimit": 10000
     },
     "inputWidgets": {},
     "nuid": "e662129a-2ca5-4d13-a30c-1d6e4a7ca2d4",
     "showTitle": false,
     "tableResultSettingsMap": {},
     "title": ""
    }
   },
   "outputs": [
    {
     "output_type": "display_data",
     "data": {
      "text/html": [
       "<style scoped>\n",
       "  .table-result-container {\n",
       "    max-height: 300px;\n",
       "    overflow: auto;\n",
       "  }\n",
       "  table, th, td {\n",
       "    border: 1px solid black;\n",
       "    border-collapse: collapse;\n",
       "  }\n",
       "  th, td {\n",
       "    padding: 5px;\n",
       "  }\n",
       "  th {\n",
       "    text-align: left;\n",
       "  }\n",
       "</style><div class='table-result-container'><table class='table-result'><thead style='background-color: white'><tr><th>player_id</th><th>total_spend</th></tr></thead><tbody><tr><td>P040</td><td>443.09000000000003</td></tr><tr><td>P033</td><td>169.31</td></tr><tr><td>P027</td><td>163.69</td></tr><tr><td>P068</td><td>155.63</td></tr><tr><td>P026</td><td>135.32</td></tr></tbody></table></div>"
      ]
     },
     "metadata": {
      "application/vnd.databricks.v1+output": {
       "addedWidgets": {},
       "aggData": [],
       "aggError": "",
       "aggOverflow": false,
       "aggSchema": [],
       "aggSeriesLimitReached": false,
       "aggType": "",
       "arguments": {},
       "columnCustomDisplayInfos": {},
       "data": [
        [
         "P040",
         443.09000000000003
        ],
        [
         "P033",
         169.31
        ],
        [
         "P027",
         163.69
        ],
        [
         "P068",
         155.63
        ],
        [
         "P026",
         135.32
        ]
       ],
       "datasetInfos": [],
       "dbfsResultPath": null,
       "isJsonSchema": true,
       "metadata": {},
       "overflow": false,
       "plotOptions": {
        "customPlotOptions": {},
        "displayType": "table",
        "pivotAggregation": null,
        "pivotColumns": null,
        "xColumns": null,
        "yColumns": null
       },
       "removedWidgets": [],
       "schema": [
        {
         "metadata": "{}",
         "name": "player_id",
         "type": "\"string\""
        },
        {
         "metadata": "{}",
         "name": "total_spend",
         "type": "\"double\""
        }
       ],
       "type": "table"
      }
     },
     "output_type": "display_data"
    },
    {
     "output_type": "display_data",
     "data": {
      "text/plain": [
       "Databricks visualization. Run in Databricks to view."
      ]
     },
     "metadata": {
      "application/vnd.databricks.v1.subcommand+json": {
       "baseErrorDetails": null,
       "bindings": {},
       "collapsed": false,
       "command": "%python\n__backend_agg_display_orig = display\n__backend_agg_dfs = []\ndef __backend_agg_display_new(df):\n    __backend_agg_df_modules = [\"pandas.core.frame\", \"databricks.koalas.frame\", \"pyspark.sql.dataframe\", \"pyspark.pandas.frame\", \"pyspark.sql.connect.dataframe\"]\n    if (type(df).__module__ in __backend_agg_df_modules and type(df).__name__ == 'DataFrame') or isinstance(df, list):\n        __backend_agg_dfs.append(df)\n\ndisplay = __backend_agg_display_new\n\ndef __backend_agg_user_code_fn():\n    import base64\n    exec(base64.standard_b64decode(\"dG9wX3NwZW5kZXJzID0gc3Bhcmsuc3FsKCIiIgogICAgU0VMRUNUCiAgICAgICAgcGxheWVyX2lkLAogICAgICAgIFNVTShgYW1vdW50X3NwZW50KCQpYCkgQVMgdG90YWxfc3BlbmQKICAgIEZST00KICAgICAgICBzZXNzaW9ucwogICAgV0hFUkUKICAgICAgICB0YXNrID0gJ3B1cmNoYXNlJwogICAgR1JPVVAgQlkKICAgICAgICBwbGF5ZXJfaWQKICAgIE9SREVSIEJZCiAgICAgICAgdG90YWxfc3BlbmQgREVTQwogICAgTElNSVQgNQoiIiIpCmRpc3BsYXkodG9wX3NwZW5kZXJzKQ==\").decode())\n\ntry:\n    # run user code\n    __backend_agg_user_code_fn()\n\n    #reset display function\n    display = __backend_agg_display_orig\n\n    if len(__backend_agg_dfs) > 0:\n        # create a temp view\n        if type(__backend_agg_dfs[0]).__module__ == \"databricks.koalas.frame\":\n            # koalas dataframe\n            __backend_agg_dfs[0].to_spark().createOrReplaceTempView(\"DatabricksView04f1b86\")\n        elif type(__backend_agg_dfs[0]).__module__ == \"pandas.core.frame\" or isinstance(__backend_agg_dfs[0], list):\n            # pandas dataframe\n            spark.createDataFrame(__backend_agg_dfs[0]).createOrReplaceTempView(\"DatabricksView04f1b86\")\n        else:\n            __backend_agg_dfs[0].createOrReplaceTempView(\"DatabricksView04f1b86\")\n        #run backend agg\n        display(spark.sql(\"\"\"WITH q AS (select * from DatabricksView04f1b86) SELECT `player_id`,SUM(`total_spend`) `column_80a9e559277` FROM q GROUP BY `player_id`\"\"\"))\n    else:\n        displayHTML(\"dataframe no longer exists. If you're using dataframe.display(), use display(dataframe) instead.\")\n\n\nfinally:\n    spark.sql(\"drop view if exists DatabricksView04f1b86\")\n    display = __backend_agg_display_orig\n    del __backend_agg_display_new\n    del __backend_agg_display_orig\n    del __backend_agg_dfs\n    del __backend_agg_user_code_fn\n\n",
       "commandTitle": "Visualization 1",
       "commandType": "auto",
       "commandVersion": 0,
       "commentThread": [],
       "commentsVisible": false,
       "contentSha256Hex": null,
       "customPlotOptions": {
        "redashChart": [
         {
          "key": "type",
          "value": "CHART"
         },
         {
          "key": "options",
          "value": {
           "alignYAxesAtZero": true,
           "coefficient": 1,
           "columnConfigurationMap": {
            "x": {
             "column": "player_id",
             "id": "column_80a9e559276"
            },
            "y": [
             {
              "column": "total_spend",
              "id": "column_80a9e559277",
              "transform": "SUM"
             }
            ]
           },
           "dateTimeFormat": "DD/MM/YYYY HH:mm",
           "direction": {
            "type": "counterclockwise"
           },
           "error_y": {
            "type": "data",
            "visible": true
           },
           "globalSeriesType": "pie",
           "legend": {
            "traceorder": "normal"
           },
           "missingValuesAsZero": true,
           "numberFormat": "0,0.[00000]",
           "percentFormat": "0[.]00%",
           "series": {
            "error_y": {
             "type": "data",
             "visible": true
            },
            "stacking": null
           },
           "seriesOptions": {
            "column_80a9e559277": {
             "name": "total_spend",
             "type": "pie",
             "yAxis": 0
            }
           },
           "showDataLabels": true,
           "sizemode": "diameter",
           "sortX": true,
           "sortY": true,
           "swappedAxes": false,
           "textFormat": "",
           "useAggregationsUi": true,
           "valuesOptions": {},
           "version": 2,
           "xAxis": {
            "labels": {
             "enabled": true
            },
            "type": "-"
           },
           "yAxis": [
            {
             "type": "-"
            },
            {
             "opposite": true,
             "type": "-"
            }
           ]
          }
         }
        ]
       },
       "datasetPreviewNameToCmdIdMap": {},
       "diffDeletes": [],
       "diffInserts": [],
       "displayType": "redashChart",
       "error": null,
       "errorDetails": null,
       "errorSummary": null,
       "errorTraceType": null,
       "finishTime": 0,
       "globalVars": {},
       "guid": "",
       "height": "auto",
       "hideCommandCode": false,
       "hideCommandResult": false,
       "iPythonMetadata": null,
       "inputWidgets": {},
       "isLockedInExamMode": false,
       "latestUser": "a user",
       "latestUserId": null,
       "listResultMetadata": null,
       "metadata": {},
       "nuid": "c7596908-16bf-4735-97ca-c076fd0c4f0f",
       "origId": 0,
       "parentHierarchy": [],
       "pivotAggregation": null,
       "pivotColumns": null,
       "position": 109.0,
       "resultDbfsErrorMessage": null,
       "resultDbfsStatus": "INLINED_IN_TREE",
       "results": null,
       "showCommandTitle": false,
       "startTime": 0,
       "state": "input",
       "streamStates": {},
       "subcommandOptions": {
        "queryPlan": {
         "groups": [
          {
           "column": "player_id",
           "type": "column"
          }
         ],
         "selects": [
          {
           "column": "player_id",
           "type": "column"
          },
          {
           "alias": "column_80a9e559277",
           "args": [
            {
             "column": "total_spend",
             "type": "column"
            }
           ],
           "function": "SUM",
           "type": "function"
          }
         ]
        }
       },
       "submitTime": 0,
       "subtype": "tableResultSubCmd.visualization",
       "tableResultIndex": 0,
       "tableResultSettingsMap": {},
       "useConsistentColors": false,
       "version": "CommandV1",
       "width": "auto",
       "workflows": [],
       "xColumns": null,
       "yColumns": null
      }
     },
     "output_type": "display_data"
    }
   ],
   "source": [
    "%python\n",
    "top_spenders = spark.sql(\"\"\"\n",
    "    SELECT\n",
    "        player_id,\n",
    "        SUM(`amount_spent($)`) AS total_spend\n",
    "    FROM\n",
    "        sessions\n",
    "    WHERE\n",
    "        task = 'purchase'\n",
    "    GROUP BY\n",
    "        player_id\n",
    "    ORDER BY\n",
    "        total_spend DESC\n",
    "    LIMIT 5\n",
    "\"\"\")\n",
    "display(top_spenders)"
   ]
  },
  {
   "cell_type": "code",
   "execution_count": 0,
   "metadata": {
    "application/vnd.databricks.v1+cell": {
     "cellMetadata": {
      "byteLimit": 2048000,
      "rowLimit": 10000
     },
     "inputWidgets": {},
     "nuid": "4a2109da-90c2-42e3-b037-81a3ae33d427",
     "showTitle": false,
     "tableResultSettingsMap": {},
     "title": ""
    }
   },
   "outputs": [
    {
     "output_type": "display_data",
     "data": {
      "text/html": [
       "<style scoped>\n",
       "  .table-result-container {\n",
       "    max-height: 300px;\n",
       "    overflow: auto;\n",
       "  }\n",
       "  table, th, td {\n",
       "    border: 1px solid black;\n",
       "    border-collapse: collapse;\n",
       "  }\n",
       "  th, td {\n",
       "    padding: 5px;\n",
       "  }\n",
       "  th {\n",
       "    text-align: left;\n",
       "  }\n",
       "</style><div class='table-result-container'><table class='table-result'><thead style='background-color: white'><tr><th>churned_players_count</th><th>churn_rate_percentage</th></tr></thead><tbody><tr><td>24</td><td>100.00000000000000</td></tr></tbody></table></div>"
      ]
     },
     "metadata": {
      "application/vnd.databricks.v1+output": {
       "addedWidgets": {},
       "aggData": [],
       "aggError": "",
       "aggOverflow": false,
       "aggSchema": [],
       "aggSeriesLimitReached": false,
       "aggType": "",
       "arguments": {},
       "columnCustomDisplayInfos": {},
       "data": [
        [
         24,
         "100.00000000000000"
        ]
       ],
       "datasetInfos": [],
       "dbfsResultPath": null,
       "isJsonSchema": true,
       "metadata": {},
       "overflow": false,
       "plotOptions": {
        "customPlotOptions": {},
        "displayType": "table",
        "pivotAggregation": null,
        "pivotColumns": null,
        "xColumns": null,
        "yColumns": null
       },
       "removedWidgets": [],
       "schema": [
        {
         "metadata": "{}",
         "name": "churned_players_count",
         "type": "\"long\""
        },
        {
         "metadata": "{}",
         "name": "churn_rate_percentage",
         "type": "\"decimal(38,14)\""
        }
       ],
       "type": "table"
      }
     },
     "output_type": "display_data"
    }
   ],
   "source": [
    "%python\n",
    "churn_rate = spark.sql(\"\"\"\n",
    "    WITH LastMonthPlayers AS (\n",
    "        SELECT\n",
    "            DISTINCT player_id\n",
    "        FROM\n",
    "            sessions\n",
    "        WHERE\n",
    "            task = 'login' AND\n",
    "            MONTH(to_timestamp(login_time, 'dd-MM-yyyy HH:mm')) = MONTH(CURRENT_DATE()) - 1 AND\n",
    "            YEAR(to_timestamp(login_time, 'dd-MM-yyyy HH:mm')) = YEAR(CURRENT_DATE())\n",
    "    ),\n",
    "    ThisMonthPlayers AS (\n",
    "        SELECT\n",
    "            DISTINCT player_id\n",
    "        FROM\n",
    "            sessions\n",
    "        WHERE\n",
    "            task = 'login' AND\n",
    "            MONTH(to_timestamp(login_time, 'dd-MM-yyyy HH:mm')) = MONTH(CURRENT_DATE()) AND\n",
    "            YEAR(to_timestamp(login_time, 'dd-MM-yyyy HH:mm')) = YEAR(CURRENT_DATE())\n",
    "    ),\n",
    "    ChurnedPlayers AS (\n",
    "        SELECT\n",
    "            l.player_id\n",
    "        FROM\n",
    "            LastMonthPlayers l\n",
    "        LEFT ANTI JOIN\n",
    "            ThisMonthPlayers t ON l.player_id = t.player_id\n",
    "    )\n",
    "    SELECT\n",
    "        COUNT(player_id) AS churned_players_count,\n",
    "        (COUNT(player_id) * 100.0) / (SELECT COUNT(*) FROM LastMonthPlayers) AS churn_rate_percentage\n",
    "    FROM\n",
    "        ChurnedPlayers\n",
    "\"\"\")\n",
    "display(churn_rate)"
   ]
  }
 ],
 "metadata": {
  "application/vnd.databricks.v1+notebook": {
   "computePreferences": null,
   "dashboards": [
    {
     "elements": [
      {
       "dashboardResultIndex": null,
       "elementNUID": "c7596908-16bf-4735-97ca-c076fd0c4f0f",
       "elementType": "command",
       "guid": "1104ede7-d2fb-4dbb-9cc4-5261e655f852",
       "options": null,
       "position": {
        "height": 5,
        "width": 8,
        "x": 8,
        "y": 5,
        "z": null
       },
       "resultIndex": null
      },
      {
       "dashboardResultIndex": null,
       "elementNUID": "fce7230a-7ec8-41d2-953e-088ad01284be",
       "elementType": "command",
       "guid": "3e6d5c44-e38d-4e9d-ab1b-5bed62fca44c",
       "options": null,
       "position": {
        "height": 5,
        "width": 15,
        "x": 0,
        "y": 0,
        "z": null
       },
       "resultIndex": null
      },
      {
       "dashboardResultIndex": null,
       "elementNUID": "766401d7-8071-48f3-96c8-bda342acdb85",
       "elementType": "command",
       "guid": "78ebb124-5321-4ae9-a90d-e87a13cccbd4",
       "options": null,
       "position": {
        "height": 5,
        "width": 8,
        "x": 0,
        "y": 5,
        "z": null
       },
       "resultIndex": null
      },
      {
       "dashboardResultIndex": 0,
       "elementNUID": "4a2109da-90c2-42e3-b037-81a3ae33d427",
       "elementType": "command",
       "guid": "b8cb7987-3187-45aa-934b-67c43be030c7",
       "options": null,
       "position": {
        "height": 2,
        "width": 16,
        "x": 0,
        "y": 10,
        "z": null
       },
       "resultIndex": null
      }
     ],
     "globalVars": {},
     "guid": "",
     "layoutOption": {
      "grid": true,
      "stack": true
     },
     "nuid": "84447282-a488-42f2-a2d9-3804761ba648",
     "origId": 5874850193661159,
     "title": "Untitled",
     "version": "DashboardViewV1",
     "width": 1024
    }
   ],
   "environmentMetadata": {
    "base_environment": "",
    "environment_version": "3"
   },
   "inputWidgetPreferences": null,
   "language": "sql",
   "notebookMetadata": {
    "pythonIndentUnit": 4
   },
   "notebookName": "online_gaming",
   "widgets": {}
  },
  "language_info": {
   "name": "sql"
  }
 },
 "nbformat": 4,
 "nbformat_minor": 0
}